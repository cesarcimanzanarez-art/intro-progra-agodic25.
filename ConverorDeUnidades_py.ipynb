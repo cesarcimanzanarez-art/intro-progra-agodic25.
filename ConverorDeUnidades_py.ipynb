{
  "nbformat": 4,
  "nbformat_minor": 0,
  "metadata": {
    "colab": {
      "provenance": []
    },
    "kernelspec": {
      "name": "python3",
      "display_name": "Python 3"
    },
    "language_info": {
      "name": "python"
    }
  },
  "cells": [
    {
      "cell_type": "code",
      "execution_count": null,
      "metadata": {
        "id": "somdny7gP8xJ"
      },
      "outputs": [],
      "source": [
        "print(\"-----Bienvenido a la calculadora de conversión de unidades-------\")\n",
        "print(\"Menu de Conversiones\")\n",
        "print(\"1.- Temperatura.- Celsius-Fahrenheit\")\n",
        "print(\"2.- Temperatura.- Fahrenheit-Celsius\")\n",
        "print(\"3.-Longitud.- Metros-Centímetros\")\n",
        "print(\"4.-Longitud.- Centímetros-Metros\")\n",
        "print(\"5.-Masa.-Gramos-Kilográmos\")\n",
        "print(\"6.-Masa.- Kilogramos-Gramos\")\n",
        "print(\"7.-Salir\")\n",
        "\n",
        "opcion = input(\"Opción (1-4):\")\n",
        "\n",
        "if opcion == \"1\":\n",
        "  temCe = float(input(\"Temperatura (Celsius):\"))\n",
        "  temFa = (9/5)*(temCe)+32\n",
        "  print(f\"La Temperatura en Grados Fahrenheit es: {temFa:.2}\")\n",
        "\n",
        "if opcion == \"2\":\n",
        "  temFa = float(input(\"Temperatura (Fahrenheit):\"))\n",
        "  temCe = (5/9)*(temFa-32)\n",
        "  print(f\"La Temperatura en Grados Celsius es: {temCe:.2}\")\n",
        "\n",
        "if opcion == \"3\":\n",
        "  metros = float(input(\"Medida en Metros:\"))\n",
        "  centimetros = (metros)*(100)\n",
        "  print(f\"La medida en centímetros es: {centimetros:.2}\")\n",
        "\n",
        "if opcion == \"4\":\n",
        "  centimetros = float(input(\"Medida en Centímetros:\"))\n",
        "  metros = (centimetros)/(100)\n",
        "  print(f\"La medida en metros es: {metros:.3}\")\n",
        "\n",
        "if opcion == \"5\":\n",
        "  gramos = float(input(\"Masa en gramos:\"))\n",
        "  kilogramos = (gramos)/(1000)\n",
        "  print(f\"La Masa en kilogramos es: {kilogramos:.2}\")\n",
        "\n",
        "if opcion == \"6\":\n",
        "  kilogramos = float(input(\"Masa en kilogramos:\"))\n",
        "  gramos = (kilogramos)*(1000)\n",
        "  print(f\"La Masa en gramos es: {gramos:.2}\")\n",
        "\n",
        "if opcion == \"7\":\n",
        "  print(\"Fin de la ejecución\")\n"
      ]
    }
  ]
}