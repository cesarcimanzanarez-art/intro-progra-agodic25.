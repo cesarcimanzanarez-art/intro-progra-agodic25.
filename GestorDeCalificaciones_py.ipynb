{
  "nbformat": 4,
  "nbformat_minor": 0,
  "metadata": {
    "colab": {
      "provenance": []
    },
    "kernelspec": {
      "name": "python3",
      "display_name": "Python 3"
    },
    "language_info": {
      "name": "python"
    }
  },
  "cells": [
    {
      "cell_type": "code",
      "execution_count": null,
      "metadata": {
        "id": "Xwo2PKGxh7yc"
      },
      "outputs": [],
      "source": [
        "print(\"-----Bienvenido a la calculadora de Gestor de Calificaciones-------\")\n",
        "print(\"Menu de Opciones\")\n",
        "print(\"1.- Calcular Promedio\")\n",
        "print(\"2.- Calcular calificación final\")\n",
        "print(\"3.- Tu Mayor y Menor calificación\")\n",
        "print(\"4.- Aprobado/Reprobado\")\n",
        "print(\"5.- Salir\")\n",
        "\n",
        "opcion = input(\"Opción (1-5):\")\n",
        "\n",
        "if opcion == \"1\":\n",
        "  cal1 = float(input(\"Calificación (primer examen)):\"))\n",
        "  cal2 = float(input(\"Calificación (segundo examen)):\"))\n",
        "  cal3 = float(input(\"Calificación (tercer examen)):\"))\n",
        "  promedio = (cal1+cal2+cal3)/3\n",
        "  print(f\"Tu promedio de calificación es: {promedio:.2}\")\n",
        "\n",
        "if opcion == \"2\":\n",
        "  cal1 = float(input(\"Calificación (primer examen)):\"))\n",
        "  cal2 = float(input(\"Calificación (segundo examen)):\"))\n",
        "  cal3 = float(input(\"Calificación (tercer examen)):\"))\n",
        "  promedio = (cal1+cal2+cal3)/3\n",
        "  print(f\"Tu calificación final es: {promedio:.2}\")\n",
        "\n",
        "if opcion == \"3\":\n",
        "  cal1 = float(input(\"Calificación (primer examen):\"))\n",
        "  cal2 = float(input(\"Calificación (segundo examen):\"))\n",
        "  cal3 = float(input(\"Calificación (tercer examen):\"))\n",
        "  calificaciones = {cal1,cal2,cal3}\n",
        "  mayorcalif = max(calificaciones)\n",
        "  menorcalif = min(calificaciones)\n",
        "  print(f\"Tu calificación máxima es: {mayorcalif}\")\n",
        "  print(f\"Tu calificación mínima es: {menorcalif}\")\n",
        "\n",
        "if opcion == \"4\":\n",
        "  cal1 = float(input(\"Calificación (primer examen)):\"))\n",
        "  cal2 = float(input(\"Calificación (segundo examen)):\"))\n",
        "  cal3 = float(input(\"Calificación (tercer examen)):\"))\n",
        "  promedio = (cal1+cal2+cal3)/3\n",
        "  print(f\"Tu promedio de calificación es: {promedio:.2}\")\n",
        "  if promedio < 5:\n",
        "    print(\"Reprobado\")\n",
        "  else:\n",
        "   print(\"Aprobado\")\n",
        "\n",
        "if opcion == \"5\":\n",
        "   print(\"Salir\")\n"
      ]
    }
  ]
}