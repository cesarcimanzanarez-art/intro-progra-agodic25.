{
  "nbformat": 4,
  "nbformat_minor": 0,
  "metadata": {
    "colab": {
      "provenance": []
    },
    "kernelspec": {
      "name": "python3",
      "display_name": "Python 3"
    },
    "language_info": {
      "name": "python"
    }
  },
  "cells": [
    {
      "cell_type": "code",
      "execution_count": null,
      "metadata": {
        "id": "_6ok1U7yx7wr"
      },
      "outputs": [],
      "source": [
        "print(\"-----Bienvenido a la calculadora de Cotizador de Producto-------\")\n",
        "print(\"Menu de Opciones\")\n",
        "print(\"1.- Precio del producto + IVA\")\n",
        "print(\"2.- Precio del producto con descuento + IVA\")\n",
        "print(\"3.- Costo total a Pagar\")\n",
        "print(\"4.- Salir\")\n",
        "\n",
        "opcion = input(\"Opción (1-4):\")\n",
        "\n",
        "if opcion == \"1\":\n",
        "  precio = float(input(\"Escribe el Precio del Producto ($):\"))\n",
        "  premasiva = precio + (precio*0.16)\n",
        "  print(f\"El precio con IVA del 16 % es: {premasiva:.2}\")\n",
        "\n",
        "if opcion == \"2\":\n",
        "  precio = float(input(\"Escribe el Precio del Producto ($):\"))\n",
        "  descuento = float(input(\"Escribe el Descuento (%):\"))\n",
        "  preciototal = precio + (precio*0.16)- ((descuento/100)*precio)\n",
        "  print(f\"El precio total con IVA del 16 % y con el descuento es: {preciototal:.2}\")\n",
        "\n",
        "if opcion == \"3\":\n",
        "  precio = float(input(\"Escribe el Precio del Producto ($):\"))\n",
        "  descuento = float(input(\"Escribe el Descuento (%):\"))\n",
        "  cantidad = float(input(\"Escribe la Cantidad de Productos:\"))\n",
        "  preciototal = (precio + (precio*0.16)- ((descuento/100)*precio))*cantidad\n",
        "  print(f\"El costo a pagar por tus productos con IVA y con descuento es: {preciototal:.2}\")\n",
        "\n",
        "if opcion == \"4\":\n",
        "  print(\"Vuelva Pronto\")"
      ]
    }
  ]
}